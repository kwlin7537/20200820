{
  "nbformat": 4,
  "nbformat_minor": 0,
  "metadata": {
    "colab": {
      "name": "python0826.ipynb",
      "provenance": [],
      "authorship_tag": "ABX9TyNZ3N/bGFnOIFVR4fQ8MobC",
      "include_colab_link": true
    },
    "kernelspec": {
      "name": "python3",
      "display_name": "Python 3"
    }
  },
  "cells": [
    {
      "cell_type": "markdown",
      "metadata": {
        "id": "view-in-github",
        "colab_type": "text"
      },
      "source": [
        "<a href=\"https://colab.research.google.com/github/kwlin7537/20200820/blob/master/python0826.ipynb\" target=\"_parent\"><img src=\"https://colab.research.google.com/assets/colab-badge.svg\" alt=\"Open In Colab\"/></a>"
      ]
    },
    {
      "cell_type": "markdown",
      "metadata": {
        "id": "0txeQdT1WNWs",
        "colab_type": "text"
      },
      "source": [
        "0826的研習"
      ]
    },
    {
      "cell_type": "code",
      "metadata": {
        "id": "xMa-6jWj5i4R",
        "colab_type": "code",
        "colab": {
          "base_uri": "https://localhost:8080/",
          "height": 85
        },
        "outputId": "98c09410-baa6-4929-e1d3-48d477ee7371"
      },
      "source": [
        "import binascii\n",
        "\n",
        "a = b'HappyCTF{Uerful tools binascii}'\n",
        "b = binascii.b2a_hex(a)\n",
        "print(b)\n",
        "b = binascii.a2b_hex(b)\n",
        "print(b)\n",
        "b = binascii.hexlify(b)\n",
        "print(b)\n",
        "b = binascii.unhexlify(b)\n",
        "print(b)"
      ],
      "execution_count": 61,
      "outputs": [
        {
          "output_type": "stream",
          "text": [
            "b'48617070794354467b55657266756c20746f6f6c732062696e61736369697d'\n",
            "b'HappyCTF{Uerful tools binascii}'\n",
            "b'48617070794354467b55657266756c20746f6f6c732062696e61736369697d'\n",
            "b'HappyCTF{Uerful tools binascii}'\n"
          ],
          "name": "stdout"
        }
      ]
    },
    {
      "cell_type": "code",
      "metadata": {
        "id": "vKSWEzfclo2G",
        "colab_type": "code",
        "colab": {}
      },
      "source": [
        ""
      ],
      "execution_count": null,
      "outputs": []
    }
  ]
}